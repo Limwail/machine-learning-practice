{
 "cells": [
  {
   "cell_type": "markdown",
   "metadata": {
    "id": "xWREcfVhley5"
   },
   "source": [
    "# Turkish crowdfunding startups\n",
    "Оригінальний датасет: https://archive.ics.uci.edu/dataset/1025/turkish+crowdfunding+startups\n",
    "\n",
    "Назви ознак у перекладеній версії:\n",
    "\n",
    "- `id`: The unique identifier of the project.\n",
    "- `platform`: The crowdfunding platform where the project is hosted.\n",
    "- `funding_type`: Type of crowdfunding (e.g., reward, donation).\n",
    "- `category`: Category of the project.\n",
    "- `funding_method`: Funding method (e.g., all or nothing).\n",
    "- `project_name`: Project name.\n",
    "- `project_owner_name`: Name of the project owner.\n",
    "- `project_owner_gender`: Gender of the project owner.\n",
    "- `project_owner_backed`: Number of projects the owner has backed.\n",
    "- `project_owner_subscribed`: Number of projects the owner has subscribed to.\n",
    "- `owner_n_projects`: Number of projects owned by the project owner.\n",
    "- `owner_in_teams`: Number of teams the project owner is part of.\n",
    "- `location`: Location of the project owner.\n",
    "- `region`: Region of the project.\n",
    "- `year`: Year the project was launched.\n",
    "- `project_start_date`: Start date of the project.\n",
    "- `project_end_date`: End date of the project.\n",
    "- `project_duration`: Duration of the project in days.\n",
    "- `has_video`: Whether the project has a promotional video.\n",
    "- `video_length`: Length of the promotional video.\n",
    "- `images`: Number of images related to the project.\n",
    "- `faq`: Whether the project has a Frequently Asked Questions (FAQ) section.\n",
    "- `updates`: Number of updates for the project.\n",
    "- `comments`: Number of comments on the project.\n",
    "- `backers`: Number of backers for the project.\n",
    "- `rewards`: Number of rewards offered in the project.\n",
    "- `team_size`: Number of people in the project team.\n",
    "- `has_website`: Whether the project has a website.\n",
    "- `has_social_media`: Whether the project has social media accounts.\n",
    "- `n_social_media`: Number of social media accounts for the project.\n",
    "- `sm_followers`: Number of social media followers for the project.\n",
    "- `tags`: Number of tags used in the project description.\n",
    "- `n_words`: Number of words in the project description.\n",
    "- `description`: Description of the project.\n",
    "- `funding_target`: Target amount of funding for the project.\n",
    "- `funding_received`: Amount of funding collected for the project.\n",
    "- `funding_percent`: Percentage of the target amount achieved.\n",
    "- `success`: Success status of the project (successful or unsuccessful)."
   ]
  },
  {
   "cell_type": "code",
   "execution_count": 1,
   "metadata": {
    "id": "je_eenZ07eso"
   },
   "outputs": [],
   "source": [
    "import pandas as pd\n",
    "import numpy as np\n",
    "import matplotlib.pyplot as plt\n",
    "import seaborn as sns\n",
    "\n",
    "import category_encoders as ce\n",
    "from sklearn.impute import SimpleImputer\n",
    "import sklearn.preprocessing as pp\n",
    "from sklearn.model_selection import train_test_split\n",
    "from sklearn.linear_model import LogisticRegression\n",
    "from imblearn.combine import SMOTEENN\n",
    "from sklearn.metrics import classification_report, confusion_matrix\n",
    "from sklearn.tree import DecisionTreeClassifier, plot_tree"
   ]
  },
  {
   "cell_type": "code",
   "execution_count": 2,
   "metadata": {
    "id": "Xpd91DtC8uhP"
   },
   "outputs": [],
   "source": [
    "data = pd.read_csv('\\datasets\\startups_in_turkey.csv')"
   ]
  },
  {
   "cell_type": "markdown",
   "metadata": {},
   "source": [
    "## EDA"
   ]
  },
  {
   "cell_type": "code",
   "execution_count": 3,
   "metadata": {
    "colab": {
     "base_uri": "https://localhost:8080/",
     "height": 896
    },
    "id": "ol688W-z_6ZA",
    "outputId": "dd4c528a-2284-46ef-f55a-8ec3736794a5"
   },
   "outputs": [
    {
     "data": {
      "text/html": [
       "<div>\n",
       "<style scoped>\n",
       "    .dataframe tbody tr th:only-of-type {\n",
       "        vertical-align: middle;\n",
       "    }\n",
       "\n",
       "    .dataframe tbody tr th {\n",
       "        vertical-align: top;\n",
       "    }\n",
       "\n",
       "    .dataframe thead th {\n",
       "        text-align: right;\n",
       "    }\n",
       "</style>\n",
       "<table border=\"1\" class=\"dataframe\">\n",
       "  <thead>\n",
       "    <tr style=\"text-align: right;\">\n",
       "      <th></th>\n",
       "      <th>count</th>\n",
       "      <th>mean</th>\n",
       "      <th>std</th>\n",
       "      <th>min</th>\n",
       "      <th>25%</th>\n",
       "      <th>50%</th>\n",
       "      <th>75%</th>\n",
       "      <th>max</th>\n",
       "    </tr>\n",
       "  </thead>\n",
       "  <tbody>\n",
       "    <tr>\n",
       "      <th>Unnamed: 0</th>\n",
       "      <td>1628.0</td>\n",
       "      <td>813.500000</td>\n",
       "      <td>470.107435</td>\n",
       "      <td>0.0</td>\n",
       "      <td>406.75</td>\n",
       "      <td>813.50</td>\n",
       "      <td>1220.25</td>\n",
       "      <td>1627.0</td>\n",
       "    </tr>\n",
       "    <tr>\n",
       "      <th>id</th>\n",
       "      <td>1628.0</td>\n",
       "      <td>814.500000</td>\n",
       "      <td>470.107435</td>\n",
       "      <td>1.0</td>\n",
       "      <td>407.75</td>\n",
       "      <td>814.50</td>\n",
       "      <td>1221.25</td>\n",
       "      <td>1628.0</td>\n",
       "    </tr>\n",
       "    <tr>\n",
       "      <th>project_owner_backed</th>\n",
       "      <td>1628.0</td>\n",
       "      <td>0.429361</td>\n",
       "      <td>2.225029</td>\n",
       "      <td>0.0</td>\n",
       "      <td>0.00</td>\n",
       "      <td>0.00</td>\n",
       "      <td>0.00</td>\n",
       "      <td>31.0</td>\n",
       "    </tr>\n",
       "    <tr>\n",
       "      <th>project_owner_subscribed</th>\n",
       "      <td>1628.0</td>\n",
       "      <td>0.000614</td>\n",
       "      <td>0.024784</td>\n",
       "      <td>0.0</td>\n",
       "      <td>0.00</td>\n",
       "      <td>0.00</td>\n",
       "      <td>0.00</td>\n",
       "      <td>1.0</td>\n",
       "    </tr>\n",
       "    <tr>\n",
       "      <th>owner_n_projects</th>\n",
       "      <td>1628.0</td>\n",
       "      <td>1.165848</td>\n",
       "      <td>0.710455</td>\n",
       "      <td>1.0</td>\n",
       "      <td>1.00</td>\n",
       "      <td>1.00</td>\n",
       "      <td>1.00</td>\n",
       "      <td>7.0</td>\n",
       "    </tr>\n",
       "    <tr>\n",
       "      <th>owner_in_teams</th>\n",
       "      <td>1628.0</td>\n",
       "      <td>0.052826</td>\n",
       "      <td>0.244744</td>\n",
       "      <td>0.0</td>\n",
       "      <td>0.00</td>\n",
       "      <td>0.00</td>\n",
       "      <td>0.00</td>\n",
       "      <td>4.0</td>\n",
       "    </tr>\n",
       "    <tr>\n",
       "      <th>year</th>\n",
       "      <td>1628.0</td>\n",
       "      <td>2018.042383</td>\n",
       "      <td>2.054583</td>\n",
       "      <td>2011.0</td>\n",
       "      <td>2017.00</td>\n",
       "      <td>2019.00</td>\n",
       "      <td>2020.00</td>\n",
       "      <td>2021.0</td>\n",
       "    </tr>\n",
       "    <tr>\n",
       "      <th>project_duration</th>\n",
       "      <td>1628.0</td>\n",
       "      <td>52.004914</td>\n",
       "      <td>15.294526</td>\n",
       "      <td>0.0</td>\n",
       "      <td>45.00</td>\n",
       "      <td>60.00</td>\n",
       "      <td>60.00</td>\n",
       "      <td>118.0</td>\n",
       "    </tr>\n",
       "    <tr>\n",
       "      <th>has_video</th>\n",
       "      <td>1628.0</td>\n",
       "      <td>0.581695</td>\n",
       "      <td>0.493432</td>\n",
       "      <td>0.0</td>\n",
       "      <td>0.00</td>\n",
       "      <td>1.00</td>\n",
       "      <td>1.00</td>\n",
       "      <td>1.0</td>\n",
       "    </tr>\n",
       "    <tr>\n",
       "      <th>video_length</th>\n",
       "      <td>1628.0</td>\n",
       "      <td>67.668305</td>\n",
       "      <td>108.145452</td>\n",
       "      <td>0.0</td>\n",
       "      <td>0.00</td>\n",
       "      <td>46.00</td>\n",
       "      <td>98.25</td>\n",
       "      <td>1651.0</td>\n",
       "    </tr>\n",
       "    <tr>\n",
       "      <th>images</th>\n",
       "      <td>1628.0</td>\n",
       "      <td>5.036855</td>\n",
       "      <td>7.842166</td>\n",
       "      <td>0.0</td>\n",
       "      <td>1.00</td>\n",
       "      <td>3.00</td>\n",
       "      <td>7.00</td>\n",
       "      <td>221.0</td>\n",
       "    </tr>\n",
       "    <tr>\n",
       "      <th>faq</th>\n",
       "      <td>1628.0</td>\n",
       "      <td>0.203317</td>\n",
       "      <td>1.439136</td>\n",
       "      <td>0.0</td>\n",
       "      <td>0.00</td>\n",
       "      <td>0.00</td>\n",
       "      <td>0.00</td>\n",
       "      <td>30.0</td>\n",
       "    </tr>\n",
       "    <tr>\n",
       "      <th>updates</th>\n",
       "      <td>1628.0</td>\n",
       "      <td>0.512899</td>\n",
       "      <td>2.409611</td>\n",
       "      <td>0.0</td>\n",
       "      <td>0.00</td>\n",
       "      <td>0.00</td>\n",
       "      <td>0.00</td>\n",
       "      <td>71.0</td>\n",
       "    </tr>\n",
       "    <tr>\n",
       "      <th>comments</th>\n",
       "      <td>1628.0</td>\n",
       "      <td>1.295455</td>\n",
       "      <td>12.214556</td>\n",
       "      <td>0.0</td>\n",
       "      <td>0.00</td>\n",
       "      <td>0.00</td>\n",
       "      <td>0.00</td>\n",
       "      <td>400.0</td>\n",
       "    </tr>\n",
       "    <tr>\n",
       "      <th>backers</th>\n",
       "      <td>1628.0</td>\n",
       "      <td>24.084767</td>\n",
       "      <td>82.257217</td>\n",
       "      <td>0.0</td>\n",
       "      <td>0.00</td>\n",
       "      <td>3.00</td>\n",
       "      <td>18.00</td>\n",
       "      <td>1994.0</td>\n",
       "    </tr>\n",
       "    <tr>\n",
       "      <th>rewards</th>\n",
       "      <td>1628.0</td>\n",
       "      <td>5.979730</td>\n",
       "      <td>2.231298</td>\n",
       "      <td>0.0</td>\n",
       "      <td>4.00</td>\n",
       "      <td>6.00</td>\n",
       "      <td>8.00</td>\n",
       "      <td>29.0</td>\n",
       "    </tr>\n",
       "    <tr>\n",
       "      <th>team_size</th>\n",
       "      <td>1628.0</td>\n",
       "      <td>1.810197</td>\n",
       "      <td>1.851983</td>\n",
       "      <td>1.0</td>\n",
       "      <td>1.00</td>\n",
       "      <td>1.00</td>\n",
       "      <td>2.00</td>\n",
       "      <td>28.0</td>\n",
       "    </tr>\n",
       "    <tr>\n",
       "      <th>has_website</th>\n",
       "      <td>1628.0</td>\n",
       "      <td>0.255528</td>\n",
       "      <td>0.436292</td>\n",
       "      <td>0.0</td>\n",
       "      <td>0.00</td>\n",
       "      <td>0.00</td>\n",
       "      <td>1.00</td>\n",
       "      <td>1.0</td>\n",
       "    </tr>\n",
       "    <tr>\n",
       "      <th>has_social_media</th>\n",
       "      <td>1628.0</td>\n",
       "      <td>0.511671</td>\n",
       "      <td>0.500017</td>\n",
       "      <td>0.0</td>\n",
       "      <td>0.00</td>\n",
       "      <td>1.00</td>\n",
       "      <td>1.00</td>\n",
       "      <td>1.0</td>\n",
       "    </tr>\n",
       "    <tr>\n",
       "      <th>n_social_media</th>\n",
       "      <td>1628.0</td>\n",
       "      <td>1.033170</td>\n",
       "      <td>1.225174</td>\n",
       "      <td>0.0</td>\n",
       "      <td>0.00</td>\n",
       "      <td>1.00</td>\n",
       "      <td>2.00</td>\n",
       "      <td>4.0</td>\n",
       "    </tr>\n",
       "    <tr>\n",
       "      <th>sm_followers</th>\n",
       "      <td>1628.0</td>\n",
       "      <td>2541.066953</td>\n",
       "      <td>19468.390705</td>\n",
       "      <td>0.0</td>\n",
       "      <td>0.00</td>\n",
       "      <td>4.00</td>\n",
       "      <td>498.25</td>\n",
       "      <td>534300.0</td>\n",
       "    </tr>\n",
       "    <tr>\n",
       "      <th>tags</th>\n",
       "      <td>1628.0</td>\n",
       "      <td>1.374693</td>\n",
       "      <td>2.142645</td>\n",
       "      <td>0.0</td>\n",
       "      <td>0.00</td>\n",
       "      <td>0.00</td>\n",
       "      <td>4.00</td>\n",
       "      <td>12.0</td>\n",
       "    </tr>\n",
       "    <tr>\n",
       "      <th>n_words</th>\n",
       "      <td>1628.0</td>\n",
       "      <td>354.221744</td>\n",
       "      <td>300.196873</td>\n",
       "      <td>0.0</td>\n",
       "      <td>134.75</td>\n",
       "      <td>277.50</td>\n",
       "      <td>464.25</td>\n",
       "      <td>3473.0</td>\n",
       "    </tr>\n",
       "    <tr>\n",
       "      <th>funding_target</th>\n",
       "      <td>1628.0</td>\n",
       "      <td>31134.305897</td>\n",
       "      <td>65689.722941</td>\n",
       "      <td>1.0</td>\n",
       "      <td>6150.00</td>\n",
       "      <td>15000.00</td>\n",
       "      <td>35000.00</td>\n",
       "      <td>1453000.0</td>\n",
       "    </tr>\n",
       "    <tr>\n",
       "      <th>funding_received</th>\n",
       "      <td>1628.0</td>\n",
       "      <td>11428.842138</td>\n",
       "      <td>84747.549914</td>\n",
       "      <td>0.0</td>\n",
       "      <td>0.00</td>\n",
       "      <td>250.00</td>\n",
       "      <td>4207.50</td>\n",
       "      <td>2666800.0</td>\n",
       "    </tr>\n",
       "    <tr>\n",
       "      <th>funding_percent</th>\n",
       "      <td>1628.0</td>\n",
       "      <td>2.439122</td>\n",
       "      <td>13.042856</td>\n",
       "      <td>0.0</td>\n",
       "      <td>0.00</td>\n",
       "      <td>0.03</td>\n",
       "      <td>1.00</td>\n",
       "      <td>113.0</td>\n",
       "    </tr>\n",
       "  </tbody>\n",
       "</table>\n",
       "</div>"
      ],
      "text/plain": [
       "                           count          mean           std     min      25%  \\\n",
       "Unnamed: 0                1628.0    813.500000    470.107435     0.0   406.75   \n",
       "id                        1628.0    814.500000    470.107435     1.0   407.75   \n",
       "project_owner_backed      1628.0      0.429361      2.225029     0.0     0.00   \n",
       "project_owner_subscribed  1628.0      0.000614      0.024784     0.0     0.00   \n",
       "owner_n_projects          1628.0      1.165848      0.710455     1.0     1.00   \n",
       "owner_in_teams            1628.0      0.052826      0.244744     0.0     0.00   \n",
       "year                      1628.0   2018.042383      2.054583  2011.0  2017.00   \n",
       "project_duration          1628.0     52.004914     15.294526     0.0    45.00   \n",
       "has_video                 1628.0      0.581695      0.493432     0.0     0.00   \n",
       "video_length              1628.0     67.668305    108.145452     0.0     0.00   \n",
       "images                    1628.0      5.036855      7.842166     0.0     1.00   \n",
       "faq                       1628.0      0.203317      1.439136     0.0     0.00   \n",
       "updates                   1628.0      0.512899      2.409611     0.0     0.00   \n",
       "comments                  1628.0      1.295455     12.214556     0.0     0.00   \n",
       "backers                   1628.0     24.084767     82.257217     0.0     0.00   \n",
       "rewards                   1628.0      5.979730      2.231298     0.0     4.00   \n",
       "team_size                 1628.0      1.810197      1.851983     1.0     1.00   \n",
       "has_website               1628.0      0.255528      0.436292     0.0     0.00   \n",
       "has_social_media          1628.0      0.511671      0.500017     0.0     0.00   \n",
       "n_social_media            1628.0      1.033170      1.225174     0.0     0.00   \n",
       "sm_followers              1628.0   2541.066953  19468.390705     0.0     0.00   \n",
       "tags                      1628.0      1.374693      2.142645     0.0     0.00   \n",
       "n_words                   1628.0    354.221744    300.196873     0.0   134.75   \n",
       "funding_target            1628.0  31134.305897  65689.722941     1.0  6150.00   \n",
       "funding_received          1628.0  11428.842138  84747.549914     0.0     0.00   \n",
       "funding_percent           1628.0      2.439122     13.042856     0.0     0.00   \n",
       "\n",
       "                               50%       75%        max  \n",
       "Unnamed: 0                  813.50   1220.25     1627.0  \n",
       "id                          814.50   1221.25     1628.0  \n",
       "project_owner_backed          0.00      0.00       31.0  \n",
       "project_owner_subscribed      0.00      0.00        1.0  \n",
       "owner_n_projects              1.00      1.00        7.0  \n",
       "owner_in_teams                0.00      0.00        4.0  \n",
       "year                       2019.00   2020.00     2021.0  \n",
       "project_duration             60.00     60.00      118.0  \n",
       "has_video                     1.00      1.00        1.0  \n",
       "video_length                 46.00     98.25     1651.0  \n",
       "images                        3.00      7.00      221.0  \n",
       "faq                           0.00      0.00       30.0  \n",
       "updates                       0.00      0.00       71.0  \n",
       "comments                      0.00      0.00      400.0  \n",
       "backers                       3.00     18.00     1994.0  \n",
       "rewards                       6.00      8.00       29.0  \n",
       "team_size                     1.00      2.00       28.0  \n",
       "has_website                   0.00      1.00        1.0  \n",
       "has_social_media              1.00      1.00        1.0  \n",
       "n_social_media                1.00      2.00        4.0  \n",
       "sm_followers                  4.00    498.25   534300.0  \n",
       "tags                          0.00      4.00       12.0  \n",
       "n_words                     277.50    464.25     3473.0  \n",
       "funding_target            15000.00  35000.00  1453000.0  \n",
       "funding_received            250.00   4207.50  2666800.0  \n",
       "funding_percent               0.03      1.00      113.0  "
      ]
     },
     "execution_count": 3,
     "metadata": {},
     "output_type": "execute_result"
    }
   ],
   "source": [
    "data.describe(include=np.number).T"
   ]
  },
  {
   "cell_type": "code",
   "execution_count": 4,
   "metadata": {
    "colab": {
     "base_uri": "https://localhost:8080/",
     "height": 394
    },
    "id": "lpF-CsoN_CgY",
    "outputId": "9ef74229-577b-49ef-9a03-74990c6fb83d"
   },
   "outputs": [
    {
     "data": {
      "text/html": [
       "<div>\n",
       "<style scoped>\n",
       "    .dataframe tbody tr th:only-of-type {\n",
       "        vertical-align: middle;\n",
       "    }\n",
       "\n",
       "    .dataframe tbody tr th {\n",
       "        vertical-align: top;\n",
       "    }\n",
       "\n",
       "    .dataframe thead th {\n",
       "        text-align: right;\n",
       "    }\n",
       "</style>\n",
       "<table border=\"1\" class=\"dataframe\">\n",
       "  <thead>\n",
       "    <tr style=\"text-align: right;\">\n",
       "      <th></th>\n",
       "      <th>count</th>\n",
       "      <th>unique</th>\n",
       "      <th>top</th>\n",
       "      <th>freq</th>\n",
       "    </tr>\n",
       "  </thead>\n",
       "  <tbody>\n",
       "    <tr>\n",
       "      <th>platform</th>\n",
       "      <td>1628</td>\n",
       "      <td>6</td>\n",
       "      <td>fongogo</td>\n",
       "      <td>1075</td>\n",
       "    </tr>\n",
       "    <tr>\n",
       "      <th>funding_type</th>\n",
       "      <td>1628</td>\n",
       "      <td>2</td>\n",
       "      <td>reward</td>\n",
       "      <td>1618</td>\n",
       "    </tr>\n",
       "    <tr>\n",
       "      <th>category</th>\n",
       "      <td>1628</td>\n",
       "      <td>17</td>\n",
       "      <td>film-video-photography</td>\n",
       "      <td>389</td>\n",
       "    </tr>\n",
       "    <tr>\n",
       "      <th>funding_method</th>\n",
       "      <td>1628</td>\n",
       "      <td>2</td>\n",
       "      <td>all or nothing</td>\n",
       "      <td>1509</td>\n",
       "    </tr>\n",
       "    <tr>\n",
       "      <th>project_name</th>\n",
       "      <td>1628</td>\n",
       "      <td>1607</td>\n",
       "      <td>QUBİT'E HAYAL ORTAĞI OLUN</td>\n",
       "      <td>3</td>\n",
       "    </tr>\n",
       "    <tr>\n",
       "      <th>project_owner_name</th>\n",
       "      <td>1628</td>\n",
       "      <td>1513</td>\n",
       "      <td>Percin Imrek</td>\n",
       "      <td>7</td>\n",
       "    </tr>\n",
       "    <tr>\n",
       "      <th>project_owner_gender</th>\n",
       "      <td>1628</td>\n",
       "      <td>3</td>\n",
       "      <td>male</td>\n",
       "      <td>1148</td>\n",
       "    </tr>\n",
       "    <tr>\n",
       "      <th>location</th>\n",
       "      <td>1628</td>\n",
       "      <td>66</td>\n",
       "      <td>istanbul</td>\n",
       "      <td>547</td>\n",
       "    </tr>\n",
       "    <tr>\n",
       "      <th>region</th>\n",
       "      <td>1627</td>\n",
       "      <td>9</td>\n",
       "      <td>marmara</td>\n",
       "      <td>638</td>\n",
       "    </tr>\n",
       "    <tr>\n",
       "      <th>project_start_date</th>\n",
       "      <td>1017</td>\n",
       "      <td>604</td>\n",
       "      <td>2020-03-11</td>\n",
       "      <td>10</td>\n",
       "    </tr>\n",
       "    <tr>\n",
       "      <th>project_end_date</th>\n",
       "      <td>1075</td>\n",
       "      <td>749</td>\n",
       "      <td>2019-09-03 00:00:00</td>\n",
       "      <td>7</td>\n",
       "    </tr>\n",
       "    <tr>\n",
       "      <th>description</th>\n",
       "      <td>1627</td>\n",
       "      <td>1607</td>\n",
       "      <td>Tüm güzellik hizmeti veren işletmeler gibi zor...</td>\n",
       "      <td>6</td>\n",
       "    </tr>\n",
       "    <tr>\n",
       "      <th>success</th>\n",
       "      <td>1628</td>\n",
       "      <td>2</td>\n",
       "      <td>not</td>\n",
       "      <td>1252</td>\n",
       "    </tr>\n",
       "  </tbody>\n",
       "</table>\n",
       "</div>"
      ],
      "text/plain": [
       "                     count unique  \\\n",
       "platform              1628      6   \n",
       "funding_type          1628      2   \n",
       "category              1628     17   \n",
       "funding_method        1628      2   \n",
       "project_name          1628   1607   \n",
       "project_owner_name    1628   1513   \n",
       "project_owner_gender  1628      3   \n",
       "location              1628     66   \n",
       "region                1627      9   \n",
       "project_start_date    1017    604   \n",
       "project_end_date      1075    749   \n",
       "description           1627   1607   \n",
       "success               1628      2   \n",
       "\n",
       "                                                                    top  freq  \n",
       "platform                                                        fongogo  1075  \n",
       "funding_type                                                     reward  1618  \n",
       "category                                         film-video-photography   389  \n",
       "funding_method                                           all or nothing  1509  \n",
       "project_name                                  QUBİT'E HAYAL ORTAĞI OLUN     3  \n",
       "project_owner_name                                         Percin Imrek     7  \n",
       "project_owner_gender                                               male  1148  \n",
       "location                                                       istanbul   547  \n",
       "region                                                          marmara   638  \n",
       "project_start_date                                           2020-03-11    10  \n",
       "project_end_date                                    2019-09-03 00:00:00     7  \n",
       "description           Tüm güzellik hizmeti veren işletmeler gibi zor...     6  \n",
       "success                                                             not  1252  "
      ]
     },
     "execution_count": 4,
     "metadata": {},
     "output_type": "execute_result"
    }
   ],
   "source": [
    "data.describe(include='object').T"
   ]
  },
  {
   "cell_type": "code",
   "execution_count": 5,
   "metadata": {},
   "outputs": [
    {
     "data": {
      "image/png": "[encoded data removed]",
      "text/plain": [
       "<Figure size 800x500 with 1 Axes>"
      ]
     },
     "metadata": {},
     "output_type": "display_data"
    }
   ],
   "source": [
    "fig, ax = plt.subplots(figsize=(8, 5))\n",
    "sns.countplot(data, x='category', hue='success', ax=ax)\n",
    "ax.tick_params(axis='x', labelrotation=45)"
   ]
  },
  {
   "cell_type": "code",
   "execution_count": 6,
   "metadata": {
    "colab": {
     "base_uri": "https://localhost:8080/",
     "height": 620
    },
    "id": "TxnmLw7OFxgO",
    "outputId": "35dc1605-f8fe-4f7e-bad5-ddad60662a24"
   },
   "outputs": [
    {
     "data": {
      "text/plain": [
       "<Axes: >"
      ]
     },
     "execution_count": 6,
     "metadata": {},
     "output_type": "execute_result"
    },
    {
     "data": {
      "image/png": "[encoded data removed]",
      "text/plain": [
       "<Figure size 640x480 with 2 Axes>"
      ]
     },
     "metadata": {},
     "output_type": "display_data"
    }
   ],
   "source": [
    "corr_maxtrix = data.corr(numeric_only=True)\n",
    "sns.heatmap(corr_maxtrix, center=0, annot=False, cmap='coolwarm')"
   ]
  },
  {
   "cell_type": "markdown",
   "metadata": {},
   "source": [
    "## Підготовка даних\n",
    "Відокремлюємо цільову змінну - `success`.\n",
    "\n",
    "Видалимо змінні, які є некорисними (id, імена людей, точні дати початку та завершення проекту) або занадто складними для обробки (описи та назви проектів, ознаки із високою кардинальністю). \n",
    "\n",
    "Також позбудемося ознак, які, так само як і цільова змінна, виражають результат краундфандингової кампанії: суму зібраних коштів, кількість підписників."
   ]
  },
  {
   "cell_type": "code",
   "execution_count": 7,
   "metadata": {
    "id": "Xi38vS-2AE71"
   },
   "outputs": [],
   "source": [
    "drop_columns = ['id', 'project_start_date', 'project_name', 'location',\n",
    "                'project_end_date', 'project_owner_name', 'description',\n",
    "                'funding_received', 'funding_percent', 'backers', 'comments', 'sm_followers']\n",
    "target_column = 'success'\n",
    "y = data[target_column]\n",
    "X = data.drop(columns=drop_columns + [target_column])"
   ]
  },
  {
   "cell_type": "code",
   "execution_count": 8,
   "metadata": {
    "colab": {
     "base_uri": "https://localhost:8080/",
     "height": 1000
    },
    "id": "Futyj0FZGCvw",
    "outputId": "6cf73172-537d-4f77-eab4-e6a2a80ce258"
   },
   "outputs": [
    {
     "data": {
      "text/plain": [
       "Unnamed: 0                  0.000000\n",
       "platform                    0.000000\n",
       "funding_type                0.000000\n",
       "category                    0.000000\n",
       "funding_method              0.000000\n",
       "project_owner_gender        0.000000\n",
       "project_owner_backed        0.000000\n",
       "project_owner_subscribed    0.000000\n",
       "owner_n_projects            0.000000\n",
       "owner_in_teams              0.000000\n",
       "region                      0.000614\n",
       "year                        0.000000\n",
       "project_duration            0.000000\n",
       "has_video                   0.000000\n",
       "video_length                0.000000\n",
       "images                      0.000000\n",
       "faq                         0.000000\n",
       "updates                     0.000000\n",
       "rewards                     0.000000\n",
       "team_size                   0.000000\n",
       "has_website                 0.000000\n",
       "has_social_media            0.000000\n",
       "n_social_media              0.000000\n",
       "tags                        0.000000\n",
       "n_words                     0.000000\n",
       "funding_target              0.000000\n",
       "dtype: float64"
      ]
     },
     "execution_count": 8,
     "metadata": {},
     "output_type": "execute_result"
    }
   ],
   "source": [
    "X.isna().mean()"
   ]
  },
  {
   "cell_type": "markdown",
   "metadata": {},
   "source": [
    "Пропуски є лише в ознаці `region`. Знаючи, що серед значень цієї змінної є категорія `uncertain`, можемо застосувати її для порожніх значень."
   ]
  },
  {
   "cell_type": "code",
   "execution_count": 9,
   "metadata": {},
   "outputs": [
    {
     "data": {
      "text/plain": [
       "region\n",
       "marmara             638\n",
       "uncertain           367\n",
       "central anatolia    165\n",
       "aegean              136\n",
       "mediterranean       102\n",
       "general              97\n",
       "black sea            57\n",
       "southeast            46\n",
       "east                 19\n",
       "Name: count, dtype: int64"
      ]
     },
     "execution_count": 9,
     "metadata": {},
     "output_type": "execute_result"
    }
   ],
   "source": [
    "X['region'].value_counts()"
   ]
  },
  {
   "cell_type": "code",
   "execution_count": 10,
   "metadata": {
    "id": "yzCEpfVwM0-p"
   },
   "outputs": [],
   "source": [
    "X['region'] = X['region'].fillna('uncertain')"
   ]
  },
  {
   "cell_type": "code",
   "execution_count": 11,
   "metadata": {
    "id": "-RqvKsE0IQUM"
   },
   "outputs": [],
   "source": [
    "num_features = X.select_dtypes(include=np.number).columns\n",
    "cat_features = X.select_dtypes(include='object').columns\n",
    "\n",
    "X_train, X_test, y_train, y_test = train_test_split(X, y, train_size=0.7, random_state=42)\n",
    "\n",
    "scaler = pp.StandardScaler()\n",
    "X_train[num_features] = scaler.fit_transform(X_train[num_features])\n",
    "X_test[num_features] = scaler.transform(X_test[num_features])\n",
    "\n",
    "encoder = ce.OneHotEncoder(use_cat_names=True)\n",
    "X_train = encoder.fit_transform(X_train)\n",
    "X_test = encoder.transform(X_test)"
   ]
  },
  {
   "cell_type": "markdown",
   "metadata": {},
   "source": [
    "## Логістична модель"
   ]
  },
  {
   "cell_type": "code",
   "execution_count": 12,
   "metadata": {
    "colab": {
     "base_uri": "https://localhost:8080/",
     "height": 338
    },
    "id": "3AN7UTJhLGSL",
    "outputId": "a45f5560-2ed6-4faf-e5c2-f49a26f6944d"
   },
   "outputs": [
    {
     "name": "stdout",
     "output_type": "stream",
     "text": [
      "[[304  71]\n",
      " [ 10 104]]\n",
      "              precision    recall  f1-score   support\n",
      "\n",
      "         not       0.97      0.81      0.88       375\n",
      "         yes       0.59      0.91      0.72       114\n",
      "\n",
      "    accuracy                           0.83       489\n",
      "   macro avg       0.78      0.86      0.80       489\n",
      "weighted avg       0.88      0.83      0.84       489\n",
      "\n"
     ]
    }
   ],
   "source": [
    "log_model = LogisticRegression(\n",
    "    class_weight='balanced'\n",
    "    ).fit(X_train, y_train)\n",
    "prediction = log_model.predict(X_test)\n",
    "\n",
    "print(confusion_matrix(y_test, prediction))\n",
    "print(classification_report(y_test, prediction))"
   ]
  },
  {
   "cell_type": "code",
   "execution_count": 13,
   "metadata": {},
   "outputs": [
    {
     "data": {
      "text/plain": [
       "array([[7.96714429e-01, 2.03285571e-01],\n",
       "       [9.94035384e-01, 5.96461595e-03],\n",
       "       [9.62653389e-01, 3.73466107e-02],\n",
       "       [5.25214383e-01, 4.74785617e-01],\n",
       "       [3.44203548e-07, 9.99999656e-01],\n",
       "       [8.91993240e-01, 1.08006760e-01],\n",
       "       [4.38014959e-01, 5.61985041e-01],\n",
       "       [8.31582738e-01, 1.68417262e-01],\n",
       "       [9.81773917e-01, 1.82260831e-02],\n",
       "       [3.09265293e-01, 6.90734707e-01]])"
      ]
     },
     "execution_count": 13,
     "metadata": {},
     "output_type": "execute_result"
    }
   ],
   "source": [
    "log_model.predict_proba(X_test)[:10]"
   ]
  },
  {
   "cell_type": "markdown",
   "metadata": {},
   "source": [
    "Логістична регресія також присутня в `statsmodels`, але ця рееалізація чутлива до ознак з низькою варіацією, тому тут мусимо їх видалити."
   ]
  },
  {
   "cell_type": "code",
   "execution_count": 14,
   "metadata": {
    "colab": {
     "base_uri": "https://localhost:8080/"
    },
    "id": "gfMVfCTCMfJo",
    "outputId": "0c979b9f-7825-4441-b74f-e69f817c9e29"
   },
   "outputs": [
    {
     "name": "stdout",
     "output_type": "stream",
     "text": [
      "                           Logit Regression Results                           \n",
      "==============================================================================\n",
      "Dep. Variable:                success   No. Observations:                 1139\n",
      "Model:                          Logit   Df Residuals:                     1106\n",
      "Method:                           MLE   Df Model:                           32\n",
      "Date:                Tue, 20 May 2025   Pseudo R-squ.:                -0.03419\n",
      "Time:                        21:53:12   Log-Likelihood:                -635.28\n",
      "converged:                      False   LL-Null:                       -614.27\n",
      "Covariance Type:            nonrobust   LLR p-value:                     1.000\n",
      "===================================================================================================\n",
      "                                      coef    std err          z      P>|z|      [0.025      0.975]\n",
      "---------------------------------------------------------------------------------------------------\n",
      "Unnamed: 0                         -0.1211      0.157     -0.773      0.440      -0.428       0.186\n",
      "platform_fonbulucu                 -0.0916      0.335     -0.273      0.785      -0.748       0.565\n",
      "platform_fongogo                   -0.1062      0.314     -0.339      0.735      -0.721       0.509\n",
      "platform_crowdfon                  -0.1214      0.416     -0.292      0.771      -0.938       0.695\n",
      "category_film-video-photography    -0.0759      0.226     -0.335      0.738      -0.520       0.368\n",
      "category_education                  0.0090      0.277      0.033      0.974      -0.534       0.552\n",
      "category_other                      0.0849      0.299      0.284      0.776      -0.501       0.671\n",
      "category_culture-art                0.0226      0.246      0.092      0.927      -0.460       0.506\n",
      "category_technology                 0.0347      0.227      0.153      0.878      -0.409       0.479\n",
      "project_owner_gender_male          -0.6678      0.253     -2.644      0.008      -1.163      -0.173\n",
      "project_owner_gender_female         0.0225      0.278      0.081      0.935      -0.522       0.567\n",
      "project_owner_backed                0.1241      0.108      1.152      0.249      -0.087       0.335\n",
      "owner_n_projects                    0.1641      0.080      2.050      0.040       0.007       0.321\n",
      "owner_in_teams                      0.0102      0.090      0.114      0.909      -0.165       0.186\n",
      "region_marmara                     -0.0760      0.192     -0.396      0.692      -0.452       0.300\n",
      "region_central anatolia            -0.0822      0.256     -0.321      0.748      -0.584       0.419\n",
      "region_uncertain                   -0.3349      0.383     -0.874      0.382      -1.086       0.416\n",
      "region_aegean                       0.3497      0.277      1.263      0.206      -0.193       0.892\n",
      "year                                0.0189      0.085      0.221      0.825      -0.148       0.186\n",
      "project_duration                   -0.0847      0.072     -1.169      0.243      -0.227       0.057\n",
      "has_video                           0.1960      0.090      2.178      0.029       0.020       0.372\n",
      "video_length                       -0.0143      0.075     -0.192      0.848      -0.161       0.132\n",
      "images                              0.1061      0.077      1.377      0.169      -0.045       0.257\n",
      "faq                                 0.0503      0.067      0.751      0.453      -0.081       0.182\n",
      "updates                             0.1536      0.076      2.028      0.043       0.005       0.302\n",
      "rewards                            -0.1532      0.084     -1.830      0.067      -0.317       0.011\n",
      "team_size                          -0.3024      0.079     -3.815      0.000      -0.458      -0.147\n",
      "has_website                         0.0546      0.078      0.702      0.483      -0.098       0.207\n",
      "has_social_media                    0.0971      0.126      0.769      0.442      -0.150       0.345\n",
      "n_social_media                      0.4956      0.126      3.926      0.000       0.248       0.743\n",
      "tags                                0.0108      0.080      0.135      0.893      -0.146       0.167\n",
      "n_words                             0.1107      0.079      1.396      0.163      -0.045       0.266\n",
      "funding_target                      0.1456      0.075      1.954      0.051      -0.000       0.292\n",
      "===================================================================================================\n"
     ]
    },
    {
     "name": "stderr",
     "output_type": "stream",
     "text": [
      "D:\\Work\\Data Science\\GoIT ML\\venv\\Lib\\site-packages\\statsmodels\\base\\optimizer.py:737: RuntimeWarning: Maximum number of iterations has been exceeded.\n",
      "  retvals = optimize.fmin(f, start_params, args=fargs, xtol=xtol,\n",
      "D:\\Work\\Data Science\\GoIT ML\\venv\\Lib\\site-packages\\statsmodels\\base\\model.py:607: ConvergenceWarning: Maximum Likelihood optimization failed to converge. Check mle_retvals\n",
      "  warnings.warn(\"Maximum Likelihood optimization failed to \"\n"
     ]
    }
   ],
   "source": [
    "import statsmodels.api as sm\n",
    "\n",
    "feature_variances = X_train.apply(np.var)\n",
    "variance_threshold = 0.07\n",
    "X_train_sm = X_train[X_train.columns[feature_variances > variance_threshold]]\n",
    "y_train_sm = y_train.map({'yes': 1, 'not': 0})\n",
    "\n",
    "sm_model = sm.Logit(y_train_sm, X_train_sm).fit(method='nm', maxiter=1000)\n",
    "print(sm_model.summary())"
   ]
  },
  {
   "cell_type": "markdown",
   "metadata": {},
   "source": [
    "## Дерево рішень"
   ]
  },
  {
   "cell_type": "code",
   "execution_count": 15,
   "metadata": {
    "colab": {
     "base_uri": "https://localhost:8080/",
     "height": 423
    },
    "id": "m2eYW3N6OOZ9",
    "outputId": "5898467b-9491-42a5-f08b-6da513a03bd8"
   },
   "outputs": [
    {
     "name": "stdout",
     "output_type": "stream",
     "text": [
      "[[353  22]\n",
      " [ 22  92]]\n",
      "              precision    recall  f1-score   support\n",
      "\n",
      "         not       0.94      0.94      0.94       375\n",
      "         yes       0.81      0.81      0.81       114\n",
      "\n",
      "    accuracy                           0.91       489\n",
      "   macro avg       0.87      0.87      0.87       489\n",
      "weighted avg       0.91      0.91      0.91       489\n",
      "\n"
     ]
    }
   ],
   "source": [
    "tree_model = DecisionTreeClassifier(class_weight={'yes': 4, 'not': 1})  # weights can also be set manually\n",
    "tree_model.fit(X_train, y_train)\n",
    "prediction = tree_model.predict(X_test)\n",
    "\n",
    "print(confusion_matrix(y_test, prediction))\n",
    "print(classification_report(y_test, prediction))"
   ]
  },
  {
   "cell_type": "code",
   "execution_count": 16,
   "metadata": {
    "id": "UAvtE5jvOqWZ"
   },
   "outputs": [
    {
     "data": {
      "text/plain": [
       "np.float64(1.0)"
      ]
     },
     "execution_count": 16,
     "metadata": {},
     "output_type": "execute_result"
    },
    {
     "data": {
      "image/png": "[encoded data removed]",
      "text/plain": [
       "<Figure size 640x480 with 1 Axes>"
      ]
     },
     "metadata": {},
     "output_type": "display_data"
    }
   ],
   "source": [
    "features = pd.Series(tree_model.feature_importances_, \n",
    "                     index=X_train.columns).sort_values(ascending=False)\n",
    "g = sns.barplot(features[:15], orient='h')\n",
    "np.sum(features)"
   ]
  },
  {
   "cell_type": "code",
   "execution_count": 17,
   "metadata": {},
   "outputs": [
    {
     "data": {
      "text/plain": [
       "[Text(0.4583333333333333, 0.875, 'has_video <= -0.155\\ngini = 0.496\\nsamples = 1139\\nvalue = [877, 1048]'),\n",
       " Text(0.25, 0.625, 'Unnamed: 0 <= 1.7\\ngini = 0.302\\nsamples = 482\\nvalue = [456, 104]'),\n",
       " Text(0.35416666666666663, 0.75, 'True  '),\n",
       " Text(0.16666666666666666, 0.375, 'Unnamed: 0 <= -1.689\\ngini = 0.226\\nsamples = 473\\nvalue = [456, 68]'),\n",
       " Text(0.08333333333333333, 0.125, '\\n  (...)  \\n'),\n",
       " Text(0.25, 0.125, '\\n  (...)  \\n'),\n",
       " Text(0.3333333333333333, 0.375, 'gini = 0.0\\nsamples = 9\\nvalue = [0, 36]'),\n",
       " Text(0.6666666666666666, 0.625, 'Unnamed: 0 <= -0.824\\ngini = 0.427\\nsamples = 657\\nvalue = [421, 944]'),\n",
       " Text(0.5625, 0.75, '  False'),\n",
       " Text(0.5, 0.375, 'Unnamed: 0 <= -1.105\\ngini = 0.232\\nsamples = 217\\nvalue = [83, 536]'),\n",
       " Text(0.4166666666666667, 0.125, '\\n  (...)  \\n'),\n",
       " Text(0.5833333333333334, 0.125, '\\n  (...)  \\n'),\n",
       " Text(0.8333333333333334, 0.375, 'updates <= 0.023\\ngini = 0.496\\nsamples = 440\\nvalue = [338, 408]'),\n",
       " Text(0.75, 0.125, '\\n  (...)  \\n'),\n",
       " Text(0.9166666666666666, 0.125, '\\n  (...)  \\n')]"
      ]
     },
     "execution_count": 17,
     "metadata": {},
     "output_type": "execute_result"
    },
    {
     "data": {
      "image/png": "[encoded data removed]",
      "text/plain": [
       "<Figure size 640x480 with 1 Axes>"
      ]
     },
     "metadata": {},
     "output_type": "display_data"
    }
   ],
   "source": [
    "plot_tree(tree_model, max_depth=2, feature_names=X_train.columns)"
   ]
  }
 ],
 "metadata": {
  "colab": {
   "provenance": []
  },
  "kernelspec": {
   "display_name": "Python 3 (ipykernel)",
   "language": "python",
   "name": "python3"
  },
  "language_info": {
   "codemirror_mode": {
    "name": "ipython",
    "version": 3
   },
   "file_extension": ".py",
   "mimetype": "text/x-python",
   "name": "python",
   "nbconvert_exporter": "python",
   "pygments_lexer": "ipython3",
   "version": "3.11.2"
  }
 },
 "nbformat": 4,
 "nbformat_minor": 4
}
